{
 "cells": [
  {
   "cell_type": "markdown",
   "metadata": {},
   "source": [
    "Fungsi adalah sebuah blok kode yg berjalan saat dipanggil"
   ]
  },
  {
   "cell_type": "code",
   "execution_count": 5,
   "metadata": {},
   "outputs": [
    {
     "name": "stdout",
     "output_type": "stream",
     "text": [
      "haloo worleddd \n",
      "halo misterjarkowi!\n"
     ]
    },
    {
     "data": {
      "text/plain": [
       "12"
      ]
     },
     "execution_count": 5,
     "metadata": {},
     "output_type": "execute_result"
    }
   ],
   "source": [
    "# contoh\n",
    "def halo():\n",
    "    print(\"haloo worleddd \")\n",
    "    \n",
    "# cara memanggil fungsi halo()\n",
    "halo()\n",
    "\n",
    "# cara menggunakan fungsi berisi argumen\n",
    "def haloo(nama):\n",
    "    print(\"halo mister\" +(nama)+\"!\")\n",
    "haloo(\"jarkowi\")\n",
    "\n",
    "\n",
    "# atau isi argumen >1\n",
    "\n",
    "def kali(a,b):\n",
    "    return a*b\n",
    "kali(4,3)\n"
   ]
  },
  {
   "cell_type": "code",
   "execution_count": 8,
   "metadata": {},
   "outputs": [
    {
     "name": "stdout",
     "output_type": "stream",
     "text": [
      "selamat siang\n",
      "selamat pagi\n"
     ]
    }
   ],
   "source": [
    "# Default Argumen\n",
    "\n",
    "# membuat argumen menjadi bernilai tetap\n",
    "# contoh:\n",
    "\n",
    "def salam(waktu=\"pagi\"):\n",
    "    greet = \"selamat \" + str(waktu)\n",
    "    return greet\n",
    "\n",
    "print(salam(\"siang\")) # output : siang\n",
    "print(salam()) # output : pagi , karena tidak ada argumen, sehingga terisi auto = \"pagi\"\n",
    "# return adalah keyword mengembalikan nilai sekaligus akhiri fungsi tsb"
   ]
  },
  {
   "cell_type": "code",
   "execution_count": 1,
   "metadata": {},
   "outputs": [
    {
     "name": "stdout",
     "output_type": "stream",
     "text": [
      "1\n",
      "2\n",
      "3\n",
      "4\n",
      "3\n",
      "4\n",
      "3\n",
      "2\n",
      "4\n",
      "3\n",
      "4\n",
      "3\n",
      "1\n",
      "1\n",
      "1\n"
     ]
    }
   ],
   "source": [
    "# unlimited atau Infinite\n",
    "\n",
    "# utk fungsi yng memiliki jumlah argumen tidak terbtas yang dapat diinputkan\n",
    "def infinite(*args):\n",
    "    for item in args:\n",
    "        print(item)\n",
    "infinite(1,2,3,4,3,4,3,2,4,3,4,3,1,1,1)"
   ]
  }
 ],
 "metadata": {
  "kernelspec": {
   "display_name": "Python 3",
   "language": "python",
   "name": "python3"
  },
  "language_info": {
   "codemirror_mode": {
    "name": "ipython",
    "version": 3
   },
   "file_extension": ".py",
   "mimetype": "text/x-python",
   "name": "python",
   "nbconvert_exporter": "python",
   "pygments_lexer": "ipython3",
   "version": "3.10.6"
  },
  "orig_nbformat": 4
 },
 "nbformat": 4,
 "nbformat_minor": 2
}
