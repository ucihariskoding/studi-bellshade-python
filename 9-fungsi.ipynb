{
 "cells": [
  {
   "cell_type": "markdown",
   "metadata": {},
   "source": [
    "Fungsi adalah sebuah blok kode yg berjalan saat dipanggil"
   ]
  },
  {
   "cell_type": "code",
   "execution_count": 5,
   "metadata": {},
   "outputs": [
    {
     "name": "stdout",
     "output_type": "stream",
     "text": [
      "haloo worleddd \n",
      "halo misterjarkowi!\n"
     ]
    },
    {
     "data": {
      "text/plain": [
       "12"
      ]
     },
     "execution_count": 5,
     "metadata": {},
     "output_type": "execute_result"
    }
   ],
   "source": [
    "# contoh\n",
    "def halo():\n",
    "    print(\"haloo worleddd \")\n",
    "    \n",
    "# cara memanggil fungsi halo()\n",
    "halo()\n",
    "\n",
    "# cara menggunakan fungsi berisi argumen\n",
    "def haloo(nama):\n",
    "    print(\"halo mister\" +(nama)+\"!\")\n",
    "haloo(\"jarkowi\")\n",
    "\n",
    "\n",
    "# atau isi argumen >1\n",
    "\n",
    "def kali(a,b):\n",
    "    return a*b\n",
    "kali(4,3)\n"
   ]
  },
  {
   "cell_type": "code",
   "execution_count": 8,
   "metadata": {},
   "outputs": [
    {
     "name": "stdout",
     "output_type": "stream",
     "text": [
      "selamat siang\n",
      "selamat pagi\n"
     ]
    }
   ],
   "source": [
    "# Default Argumen\n",
    "\n",
    "# membuat argumen menjadi bernilai tetap\n",
    "# contoh:\n",
    "\n",
    "def salam(waktu=\"pagi\"):\n",
    "    greet = \"selamat \" + str(waktu)\n",
    "    return greet\n",
    "\n",
    "print(salam(\"siang\")) # output : siang\n",
    "print(salam()) # output : pagi , karena tidak ada argumen, sehingga terisi auto = \"pagi\"\n",
    "# return adalah keyword mengembalikan nilai sekaligus akhiri fungsi tsb"
   ]
  },
  {
   "cell_type": "code",
   "execution_count": 1,
   "metadata": {},
   "outputs": [
    {
     "name": "stdout",
     "output_type": "stream",
     "text": [
      "1\n",
      "2\n",
      "3\n",
      "4\n",
      "3\n",
      "4\n",
      "3\n",
      "2\n",
      "4\n",
      "3\n",
      "4\n",
      "3\n",
      "1\n",
      "1\n",
      "1\n",
      "[1, 2, 3, 3, 1, 2, 2, 2]\n",
      "[2, 3, 2, 1, 1, 1, 2, 3, 2, 4, 1]\n",
      "[2, 1, 2, 2, 1, 2, 1, 1]\n"
     ]
    }
   ],
   "source": [
    "# unlimited atau Infinite\n",
    "\n",
    "# utk fungsi yng memiliki jumlah argumen tidak terbtas yang dapat diinputkan\n",
    "# unlimited argumen menggunakan * (bintang) 1 pada argumennya\n",
    "# berkonsep tuple\n",
    "def infinite(*args):\n",
    "    for item in args:\n",
    "        print(item)\n",
    "infinite(1,2,3,4,3,4,3,2,4,3,4,3,1,1,1)\n",
    "\n",
    "# atau\n",
    "infinite([1,2,3,3,1,2,2,2],[2,3,2,1,1,1,2,3,2,4,1],[2,1,2,2,1,2,1,1])"
   ]
  },
  {
   "cell_type": "code",
   "execution_count": 4,
   "metadata": {},
   "outputs": [
    {
     "name": "stdout",
     "output_type": "stream",
     "text": [
      "index a memiliki nilai 3\n",
      "index b memiliki nilai 2\n",
      "index c memiliki nilai 5\n",
      "index d memiliki nilai 2\n",
      "index nama memiliki nilai joko\n",
      "index umur memiliki nilai 56\n",
      "index negara memiliki nilai tajinkistan\n"
     ]
    }
   ],
   "source": [
    "# unlimited atau Infinite\n",
    "# sama dengan yg diatas, tp ini disebut unlimited keyword argumen\n",
    "# argumen menggunakan * (bintang 2)\n",
    "# berkonsep dictionary\n",
    "\n",
    "def infiniteKeyword(**keywordss):\n",
    "    for key,value in keywordss.items():\n",
    "        print(\"index {} memiliki nilai {}\".format(key,value))\n",
    "\n",
    "infiniteKeyword(a=3,b=2,c=5,d=2)\n",
    "infiniteKeyword(nama=\"joko\", umur=56, negara=\"tajinkistan\")"
   ]
  },
  {
   "cell_type": "markdown",
   "metadata": {},
   "source": [
    "# Fungsi Rekursi\n",
    " adalah fungsi yg dapat memanggil dirinya sendiri.\n",
    "perhatikan fungsi sbb:\n",
    "''''def rekursi(param):\n",
    "    return rekursi(param)\n",
    "\n",
    "'''\n",
    "ada 2 hal yang harus diperhatikan utk handle rekursif\n",
    "1. base case : berfungsi utk menghentikan proses rekursif\n",
    "salah mendef. ini bisa menjadi infinite recursion. base case biasanya n=0 atau n=1\n",
    "\n",
    "2. proses rekursi : solusi penyederhanaan masalah besar ke sub masalah yg lebih kecil.\n",
    "\n",
    "contoh fungsi rekursif adalah faktorial.\n",
    "faktorial adalah perkalian mundur suatu bilangan posiif yang <= n dengan 1! atau 0! bernilai 1.\n",
    "\n",
    "contoh :"
   ]
  },
  {
   "cell_type": "code",
   "execution_count": 2,
   "metadata": {},
   "outputs": [
    {
     "data": {
      "text/plain": [
       "120"
      ]
     },
     "execution_count": 2,
     "metadata": {},
     "output_type": "execute_result"
    }
   ],
   "source": [
    "def faktorial(n):\n",
    "    if n==0 or n==1:\n",
    "        return 1\n",
    "    else:\n",
    "        return n*faktorial(n-1)\n",
    "faktorial(5)"
   ]
  },
  {
   "cell_type": "markdown",
   "metadata": {},
   "source": [
    "Rekursif vs Loop\n",
    "\n",
    "sebenarnya, beberapa permasalahan dalam program, bisa diselesaikan pake loop biasa drpd pake rekursif.\n",
    "\n",
    "contoh kasus faktorial diatas.\n",
    "berikut contoh hitung faktorial dg loop"
   ]
  },
  {
   "cell_type": "code",
   "execution_count": 2,
   "metadata": {},
   "outputs": [
    {
     "name": "stdout",
     "output_type": "stream",
     "text": [
      "120\n"
     ]
    }
   ],
   "source": [
    "n = int(input())\n",
    "hasil = 1\n",
    "if n ==0 or n==1:\n",
    "    print(1)\n",
    "else:\n",
    "    for i in range(n,0,-1):\n",
    "        hasil *=n\n",
    "        n-=1\n",
    "print(hasil)"
   ]
  },
  {
   "cell_type": "code",
   "execution_count": 6,
   "metadata": {},
   "outputs": [
    {
     "name": "stdout",
     "output_type": "stream",
     "text": [
      "13\n"
     ]
    }
   ],
   "source": [
    "# contoh lain adalah fungsi fibonacci\n",
    "def fibo(n):\n",
    "    if n==1 or n==2:\n",
    "        return 1\n",
    "    else:\n",
    "        return fibo(n-1) + fibo(n-2)\n",
    "\n",
    "result=fibo(7)\n",
    "print(result)"
   ]
  },
  {
   "cell_type": "markdown",
   "metadata": {},
   "source": [
    "Closure\n",
    "\n",
    "atau teknik nested funct adalah fungsi di dalam fungsi\n",
    "\n",
    "closure dpt mengakses variabel di luar scope nya.\n",
    "var. itu disebut nonlocal variable"
   ]
  },
  {
   "cell_type": "code",
   "execution_count": 10,
   "metadata": {},
   "outputs": [
    {
     "name": "stdout",
     "output_type": "stream",
     "text": [
      " lah kokkk juga dari innerFunc\n",
      "None\n"
     ]
    }
   ],
   "source": [
    "def outerFunc(pesan):\n",
    "    def innerFunc():\n",
    "        print(\" {} juga dari innerFunc\".format(pesan))\n",
    "    innerFunc()\n",
    "pesan= \"lah kokkk\"\n",
    "hasil = outerFunc(pesan)\n",
    "\n",
    "print(hasil)\n",
    "\n",
    "# \"pesan\" dapat diakses oleh innerFunc\n",
    "# ketika outerFunc dipanggil, innerFunc juga terpanggil"
   ]
  },
  {
   "cell_type": "markdown",
   "metadata": {},
   "source": [
    "closure juga dapat mngembalikan fungsi\n",
    "\n",
    "closure dg kegunaan ini disebut factory func.\n",
    "begini cara kerjanya:  "
   ]
  },
  {
   "cell_type": "code",
   "execution_count": 14,
   "metadata": {},
   "outputs": [
    {
     "name": "stdout",
     "output_type": "stream",
     "text": [
      "<function pangkat.<locals>.basis at 0x7f9148f89750>\n",
      "<function pangkat.<locals>.basis at 0x7f9148f89ea0>\n",
      "4\n",
      "27\n"
     ]
    }
   ],
   "source": [
    "def pangkat(n):\n",
    "    def basis(x):\n",
    "        return x**n\n",
    "    return basis\n",
    "\n",
    "pangkat2=pangkat(2)\n",
    "print(pangkat2)\n",
    "\n",
    "pangkat3=pangkat(3)\n",
    "print(pangkat3)\n",
    "\n",
    "print(pangkat2(2)) #pangkat 2\n",
    "\n",
    "print(pangkat3(3)) #pangkat 3"
   ]
  }
 ],
 "metadata": {
  "kernelspec": {
   "display_name": "Python 3",
   "language": "python",
   "name": "python3"
  },
  "language_info": {
   "codemirror_mode": {
    "name": "ipython",
    "version": 3
   },
   "file_extension": ".py",
   "mimetype": "text/x-python",
   "name": "python",
   "nbconvert_exporter": "python",
   "pygments_lexer": "ipython3",
   "version": "3.10.12"
  },
  "orig_nbformat": 4
 },
 "nbformat": 4,
 "nbformat_minor": 2
}
