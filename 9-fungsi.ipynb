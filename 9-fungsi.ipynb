{
 "cells": [
  {
   "cell_type": "markdown",
   "metadata": {},
   "source": [
    "Fungsi adalah sebuah blok kode yg berjalan saat dipanggil"
   ]
  },
  {
   "cell_type": "code",
   "execution_count": 5,
   "metadata": {},
   "outputs": [
    {
     "name": "stdout",
     "output_type": "stream",
     "text": [
      "haloo worleddd \n",
      "halo misterjarkowi!\n"
     ]
    },
    {
     "data": {
      "text/plain": [
       "12"
      ]
     },
     "execution_count": 5,
     "metadata": {},
     "output_type": "execute_result"
    }
   ],
   "source": [
    "# contoh\n",
    "def halo():\n",
    "    print(\"haloo worleddd \")\n",
    "    \n",
    "# cara memanggil fungsi halo()\n",
    "halo()\n",
    "\n",
    "# cara menggunakan fungsi berisi argumen\n",
    "def haloo(nama):\n",
    "    print(\"halo mister\" +(nama)+\"!\")\n",
    "haloo(\"jarkowi\")\n",
    "\n",
    "\n",
    "# atau isi argumen >1\n",
    "\n",
    "def kali(a,b):\n",
    "    return a*b\n",
    "kali(4,3)\n"
   ]
  },
  {
   "cell_type": "code",
   "execution_count": 8,
   "metadata": {},
   "outputs": [
    {
     "name": "stdout",
     "output_type": "stream",
     "text": [
      "selamat siang\n",
      "selamat pagi\n"
     ]
    }
   ],
   "source": [
    "# Default Argumen\n",
    "\n",
    "# membuat argumen menjadi bernilai tetap\n",
    "# contoh:\n",
    "\n",
    "def salam(waktu=\"pagi\"):\n",
    "    greet = \"selamat \" + str(waktu)\n",
    "    return greet\n",
    "\n",
    "print(salam(\"siang\")) # output : siang\n",
    "print(salam()) # output : pagi , karena tidak ada argumen, sehingga terisi auto = \"pagi\"\n",
    "# return adalah keyword mengembalikan nilai sekaligus akhiri fungsi tsb"
   ]
  },
  {
   "cell_type": "code",
   "execution_count": 1,
   "metadata": {},
   "outputs": [
    {
     "name": "stdout",
     "output_type": "stream",
     "text": [
      "1\n",
      "2\n",
      "3\n",
      "4\n",
      "3\n",
      "4\n",
      "3\n",
      "2\n",
      "4\n",
      "3\n",
      "4\n",
      "3\n",
      "1\n",
      "1\n",
      "1\n",
      "[1, 2, 3, 3, 1, 2, 2, 2]\n",
      "[2, 3, 2, 1, 1, 1, 2, 3, 2, 4, 1]\n",
      "[2, 1, 2, 2, 1, 2, 1, 1]\n"
     ]
    }
   ],
   "source": [
    "# unlimited atau Infinite\n",
    "\n",
    "# utk fungsi yng memiliki jumlah argumen tidak terbtas yang dapat diinputkan\n",
    "# unlimited argumen menggunakan * (bintang) 1 pada argumennya\n",
    "# berkonsep tuple\n",
    "def infinite(*args):\n",
    "    for item in args:\n",
    "        print(item)\n",
    "infinite(1,2,3,4,3,4,3,2,4,3,4,3,1,1,1)\n",
    "\n",
    "# atau\n",
    "infinite([1,2,3,3,1,2,2,2],[2,3,2,1,1,1,2,3,2,4,1],[2,1,2,2,1,2,1,1])"
   ]
  },
  {
   "cell_type": "code",
   "execution_count": 4,
   "metadata": {},
   "outputs": [
    {
     "name": "stdout",
     "output_type": "stream",
     "text": [
      "index a memiliki nilai 3\n",
      "index b memiliki nilai 2\n",
      "index c memiliki nilai 5\n",
      "index d memiliki nilai 2\n",
      "index nama memiliki nilai joko\n",
      "index umur memiliki nilai 56\n",
      "index negara memiliki nilai tajinkistan\n"
     ]
    }
   ],
   "source": [
    "# unlimited atau Infinite\n",
    "# sama dengan yg diatas, tp ini disebut unlimited keyword argumen\n",
    "# argumen menggunakan * (bintang 2)\n",
    "# berkonsep dictionary\n",
    "\n",
    "def infiniteKeyword(**keywordss):\n",
    "    for key,value in keywordss.items():\n",
    "        print(\"index {} memiliki nilai {}\".format(key,value))\n",
    "\n",
    "infiniteKeyword(a=3,b=2,c=5,d=2)\n",
    "infiniteKeyword(nama=\"joko\", umur=56, negara=\"tajinkistan\")"
   ]
  },
  {
   "cell_type": "code",
   "execution_count": 9,
   "metadata": {},
   "outputs": [
    {
     "data": {
      "text/plain": [
       "\"'def rekursi(param):\\n    return rekursi(param)\\n\\n\""
      ]
     },
     "execution_count": 9,
     "metadata": {},
     "output_type": "execute_result"
    }
   ],
   "source": [
    "# Fungsi Rekursi\n",
    "# adalah fungsi yg dapat memanggil dirinya sendiri.\n",
    "# perhatikan fungsi sbb:\n",
    "''''def rekursi(param):\n",
    "    return rekursi(param)\n",
    "\n",
    "'''"
   ]
  }
 ],
 "metadata": {
  "kernelspec": {
   "display_name": "Python 3",
   "language": "python",
   "name": "python3"
  },
  "language_info": {
   "codemirror_mode": {
    "name": "ipython",
    "version": 3
   },
   "file_extension": ".py",
   "mimetype": "text/x-python",
   "name": "python",
   "nbconvert_exporter": "python",
   "pygments_lexer": "ipython3",
   "version": "3.10.12"
  },
  "orig_nbformat": 4
 },
 "nbformat": 4,
 "nbformat_minor": 2
}
