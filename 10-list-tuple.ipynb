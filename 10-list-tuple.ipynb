{
 "cells": [
  {
   "cell_type": "markdown",
   "metadata": {},
   "source": [
    "1. List\n",
    "\n",
    "digunakan utk simpan data yang banyak hanya dg 1 variabel.\n",
    "\n",
    "list pake [ .. ]\n",
    "\n",
    "contoh:"
   ]
  },
  {
   "cell_type": "code",
   "execution_count": 4,
   "metadata": {},
   "outputs": [
    {
     "name": "stdout",
     "output_type": "stream",
     "text": [
      "['sapi', 'gajah', 'ayam', 'bebek']\n",
      "['sapi', 'dinosaurus', 'ayam', 'bebek']\n",
      "['ungu', 'coklat', 'ungu', 'biru']\n"
     ]
    }
   ],
   "source": [
    "nama_hewan = [\"sapi\", \"gajah\", \"ayam\", \"bebek\"]\n",
    "print(nama_hewan)\n",
    "\n",
    "# list bisa dirubah dg mengganti lewat indexnya\n",
    "nama_hewan[1]= \"dinosaurus\" #ganti hewan index ke-1 (gajah) menjadi dinosaurus\n",
    "print(nama_hewan)\n",
    "\n",
    "# isi list bisa duplikasi\n",
    "nama_warna = [\"ungu\", \"coklat\", \"ungu\", \"biru\"]\n",
    "print(nama_warna)"
   ]
  },
  {
   "cell_type": "markdown",
   "metadata": {},
   "source": [
    "2. Tuple\n",
    "\n",
    "mirip dg list tetapi tidak bs ngubah data.\n",
    "tuple pake ( .. )\n",
    "contoh:"
   ]
  },
  {
   "cell_type": "code",
   "execution_count": 8,
   "metadata": {},
   "outputs": [
    {
     "name": "stdout",
     "output_type": "stream",
     "text": [
      "('jakarta', 'medan', 'pidie', 'bekasi')\n"
     ]
    },
    {
     "data": {
      "text/plain": [
       "'nama_kota[1]=\"sumedang\"\\nprint(nama_kota)\\nTypeError: \\'tuple\\' object does not support item assignment\\n'"
      ]
     },
     "execution_count": 8,
     "metadata": {},
     "output_type": "execute_result"
    }
   ],
   "source": [
    "nama_kota = (\"jakarta\", \"medan\", \"pidie\", \"bekasi\")\n",
    "print(nama_kota)\n",
    "\n",
    "# coba kita ganti kota medan (index-1) ke sumedang\n",
    "\"\"\"nama_kota[1]=\"sumedang\"\n",
    "print(nama_kota)\n",
    "TypeError: 'tuple' object does not support item assignment\n",
    "\"\"\""
   ]
  },
  {
   "cell_type": "markdown",
   "metadata": {},
   "source": [
    "3. Membangun List Comprehension\n",
    "\n",
    "kita dapat membangun list dg comprehension. \n",
    "terdapat template utk list comprehension sbb:\n",
    "\n",
    "list_comprehension = [x for x in interable]\n",
    "\n",
    "misal kita buat list berisi bil. genap 1 s.d 10 dg list comprehension"
   ]
  },
  {
   "cell_type": "code",
   "execution_count": 17,
   "metadata": {},
   "outputs": [
    {
     "name": "stdout",
     "output_type": "stream",
     "text": [
      "[2, 4, 6, 8, 10]\n",
      "[0, 2, 4, 6, 8, 10]\n",
      "[1, 3, 5, 7, 9]\n"
     ]
    }
   ],
   "source": [
    "genap = [x for x in range(11) if x%2==0 and x!=0]\n",
    "print(genap) #bil. genap\n",
    "# atau\n",
    "genap_lain = [x for x in range(11) if x%2==0]\n",
    "print(genap_lain)\n",
    "\n",
    "ganjil = [x for x in range(11) if x%2==1 and x<10]\n",
    "print(ganjil)"
   ]
  },
  {
   "cell_type": "code",
   "execution_count": null,
   "metadata": {},
   "outputs": [],
   "source": [
    "# atau menambahkan else \n",
    "\n",
    "# format bakunya seperti berikut:\n",
    "# [x           for x in range(5)    if x%2 ==0       ]\n",
    "# [do this     for this collection  in this situation]"
   ]
  },
  {
   "cell_type": "code",
   "execution_count": 20,
   "metadata": {},
   "outputs": [
    {
     "name": "stdout",
     "output_type": "stream",
     "text": [
      "[2, 3, 4, 5, 6, 7, 8, 9, 10, 11]\n",
      "[0, 1, 2, 3, 4, 5, 6, 7, 8, 9]\n",
      "[2, 4, 6, 8, 10, 12, 14, 16, 18, 20]\n"
     ]
    }
   ],
   "source": [
    "# misal :\n",
    "lst = [1,2,3,4,5,6,7,8,9,10]\n",
    "\n",
    "#pake comprehension\n",
    "lstBaru = [x+1 for x in lst] #mencetak semua nilai lst namun tiap nilainya +1\n",
    "print(lstBaru)\n",
    "\n",
    "lstKurang= [x-1 for x in lst] #mencetak smua nilai lst namun tiap nilai -1\n",
    "print(lstKurang)\n",
    "\n",
    "lstKali= [x*2 for x in lst] #mencetak semua nilai lst tapi dikali 2 dulu\n",
    "print(lstKali)"
   ]
  },
  {
   "cell_type": "markdown",
   "metadata": {},
   "source": [
    "atau bisa juga (pengembangan materi dari part diatas lihat: 3. Membangun list comprehension)\n",
    "\n",
    "misal :"
   ]
  },
  {
   "cell_type": "code",
   "execution_count": 21,
   "metadata": {},
   "outputs": [
    {
     "name": "stdout",
     "output_type": "stream",
     "text": [
      "[5, 6, 7, 8, 9]\n"
     ]
    }
   ],
   "source": [
    "daftar = [1,2,3,4,5,6,7,8,9]\n",
    "daftar_baru = [x for x in daftar if x>4]\n",
    "print(daftar_baru)"
   ]
  },
  {
   "cell_type": "code",
   "execution_count": 22,
   "metadata": {},
   "outputs": [
    {
     "name": "stdout",
     "output_type": "stream",
     "text": [
      "[6, 8]\n"
     ]
    }
   ],
   "source": [
    "# contoh nested if pada list comprehension\n",
    "\n",
    "daftar_aneh = [x for x in daftar if x>4 if x%2 ==0]\n",
    "print(daftar_aneh)"
   ]
  },
  {
   "cell_type": "markdown",
   "metadata": {},
   "source": [
    "link penjelasan list dan dictionary comprehension :\n",
    "https://www.freecodecamp.org/news/list-comprehension-in-python/"
   ]
  }
 ],
 "metadata": {
  "kernelspec": {
   "display_name": "Python 3",
   "language": "python",
   "name": "python3"
  },
  "language_info": {
   "codemirror_mode": {
    "name": "ipython",
    "version": 3
   },
   "file_extension": ".py",
   "mimetype": "text/x-python",
   "name": "python",
   "nbconvert_exporter": "python",
   "pygments_lexer": "ipython3",
   "version": "3.10.12"
  },
  "orig_nbformat": 4
 },
 "nbformat": 4,
 "nbformat_minor": 2
}
