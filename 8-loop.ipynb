{
 "cells": [
  {
   "cell_type": "markdown",
   "metadata": {},
   "source": [
    "Perulangan adlh urutan instruksi yang dijalankan dg suatu kondisi terpenuhi\n",
    "\n",
    "perulangan python ada 2 :\n",
    ". while\n",
    ". for"
   ]
  },
  {
   "cell_type": "code",
   "execution_count": 2,
   "metadata": {},
   "outputs": [
    {
     "name": "stdout",
     "output_type": "stream",
     "text": [
      "1\n",
      "2\n",
      "3\n",
      "4\n",
      "5\n",
      "5\n",
      "4\n",
      "3\n",
      "2\n",
      "1\n"
     ]
    }
   ],
   "source": [
    "#while\n",
    "a=1\n",
    "while a<=5:\n",
    "    print(a)\n",
    "    a+=1\n",
    "    \n",
    "# ketika a>5, kondisi diatas berhenti (false)\n",
    "# atau kondisi mundur\n",
    "b=5\n",
    "while b>=1:\n",
    "    print(b)\n",
    "    b-=1"
   ]
  },
  {
   "cell_type": "code",
   "execution_count": 7,
   "metadata": {},
   "outputs": [
    {
     "name": "stdout",
     "output_type": "stream",
     "text": [
      "0\n",
      "1\n",
      "2\n",
      "3\n"
     ]
    }
   ],
   "source": [
    "# jika ingin menghentikan suatu loop pada kondisi tertentu\n",
    "# gunakan 'break'\n",
    "c=0\n",
    "while c<=5:\n",
    "    print(c)\n",
    "    if c==3:\n",
    "        break #stop ketika c==3\n",
    "    c+=1"
   ]
  },
  {
   "cell_type": "code",
   "execution_count": 6,
   "metadata": {},
   "outputs": [
    {
     "name": "stdout",
     "output_type": "stream",
     "text": [
      "1\n",
      "2\n",
      "4\n",
      "5\n"
     ]
    }
   ],
   "source": [
    "#utk skip suatu output\n",
    "# gunakan 'continue'\n",
    "d=0\n",
    "while d<5:\n",
    "    d+=1\n",
    "    if d==3:\n",
    "        continue # tidak masuk ke print ketika d=3, langsung naik keatas\n",
    "    print(d)"
   ]
  },
  {
   "cell_type": "code",
   "execution_count": 12,
   "metadata": {},
   "outputs": [
    {
     "name": "stdout",
     "output_type": "stream",
     "text": [
      "0\n",
      "1\n",
      "2\n",
      "3\n",
      "4\n"
     ]
    }
   ],
   "source": [
    "d=0\n",
    "while d<5:\n",
    "    print(d)\n",
    "    d+=1\n",
    "    if d==3:\n",
    "        continue"
   ]
  }
 ],
 "metadata": {
  "kernelspec": {
   "display_name": "Python 3",
   "language": "python",
   "name": "python3"
  },
  "language_info": {
   "codemirror_mode": {
    "name": "ipython",
    "version": 3
   },
   "file_extension": ".py",
   "mimetype": "text/x-python",
   "name": "python",
   "nbconvert_exporter": "python",
   "pygments_lexer": "ipython3",
   "version": "3.6.15"
  },
  "orig_nbformat": 4
 },
 "nbformat": 4,
 "nbformat_minor": 2
}
